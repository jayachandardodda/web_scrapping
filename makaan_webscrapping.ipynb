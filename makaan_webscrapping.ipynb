{
 "cells": [
  {
   "cell_type": "code",
   "execution_count": 34,
   "id": "a6f8bac7",
   "metadata": {},
   "outputs": [],
   "source": [
    "import numpy as np\n",
    "import pandas as pd\n",
    "from bs4 import BeautifulSoup\n",
    "import warnings \n",
    "warnings.filterwarnings('ignore')\n",
    "import matplotlib.pyplot as plt\n",
    "import seaborn as sns\n",
    "import requests\n",
    "import re\n",
    "import time"
   ]
  },
  {
   "cell_type": "code",
   "execution_count": 35,
   "id": "777c3aaf",
   "metadata": {},
   "outputs": [],
   "source": [
    "url = 'https://www.makaan.com/hyderabad-residential-property/buy-property-in-hyderabad-city'"
   ]
  },
  {
   "cell_type": "code",
   "execution_count": 36,
   "id": "6ef3aa4b",
   "metadata": {},
   "outputs": [],
   "source": [
    "page =requests.get(url)"
   ]
  },
  {
   "cell_type": "code",
   "execution_count": 37,
   "id": "9679d609",
   "metadata": {},
   "outputs": [
    {
     "data": {
      "text/plain": [
       "200"
      ]
     },
     "execution_count": 37,
     "metadata": {},
     "output_type": "execute_result"
    }
   ],
   "source": [
    "page.status_code"
   ]
  },
  {
   "cell_type": "code",
   "execution_count": 38,
   "id": "fd131b69",
   "metadata": {},
   "outputs": [],
   "source": [
    "page_content = page.text"
   ]
  },
  {
   "cell_type": "code",
   "execution_count": 39,
   "id": "c7467269",
   "metadata": {},
   "outputs": [],
   "source": [
    "soup =BeautifulSoup(page_content)"
   ]
  },
  {
   "cell_type": "code",
   "execution_count": 40,
   "id": "9f539362",
   "metadata": {},
   "outputs": [
    {
     "name": "stdout",
     "output_type": "stream",
     "text": [
      "3 BHK Villa\n",
      "4 BHK Apartment\n",
      "2 BHK Apartment\n",
      "3 BHK Apartment\n",
      "2 BHK Apartment\n",
      "3 BHK Apartment\n",
      "3 BHK Apartment\n",
      "2 BHK Apartment\n",
      "3 BHK Apartment\n",
      "4 BHK Villa\n",
      "4 BHK Apartment\n",
      "4 BHK Villa\n",
      "2 BHK Apartment\n",
      "Residential Plot\n",
      "Residential Plot\n",
      "3 BHK Apartment\n",
      "3 BHK Apartment\n",
      "3 BHK Apartment\n",
      "3 BHK Apartment\n",
      "3 BHK Apartment\n"
     ]
    }
   ],
   "source": [
    "for x in soup.find_all('a', attrs={'class':'typelink'}):\n",
    "    print(x.text)"
   ]
  },
  {
   "cell_type": "code",
   "execution_count": 41,
   "id": "f03e9a2e",
   "metadata": {},
   "outputs": [
    {
     "name": "stdout",
     "output_type": "stream",
     "text": [
      "Kompally, Hyderabad\n",
      "Kollur, Hyderabad\n",
      "Isnapur, Hyderabad\n",
      "Serilingampally, Hyderabad\n",
      "Dammaiguda, Hyderabad\n",
      "Kollur, Hyderabad\n",
      "Jeedimetla, Hyderabad\n",
      "Saroor Nagar, Hyderabad\n",
      "Yapral, Hyderabad\n",
      "Kismatpur, Hyderabad\n",
      "Gandipet, Hyderabad\n",
      "Maheshwaram, Hyderabad\n",
      "Kollur, Hyderabad\n",
      "Sultanpur, Hyderabad\n",
      "Sangareddy, Hyderabad\n",
      "Kokapet, Hyderabad\n",
      "Manikonda, Hyderabad\n",
      "Bandlaguda Jagir, Hyderabad\n",
      "Bowrampet, Hyderabad\n",
      "Yapral, Hyderabad\n"
     ]
    }
   ],
   "source": [
    "for x in soup.find_all('a', attrs={'class':'loclink'}):\n",
    "    print(x.text)"
   ]
  },
  {
   "cell_type": "code",
   "execution_count": 42,
   "id": "d396c0a0",
   "metadata": {},
   "outputs": [
    {
     "name": "stdout",
     "output_type": "stream",
     "text": [
      " 2.48 Cr\n",
      " 1.58 Cr\n",
      " 43.47 L\n",
      " 1.99 Cr\n",
      " 50.01 L\n",
      " 94.98 L\n",
      " 1.08 Cr\n",
      " 85.15 L\n",
      " 93.69 L\n",
      " 3.64 Cr\n",
      " 3.96 Cr\n",
      " 4.56 Cr\n",
      " 64.72 L\n",
      " 45.09 L\n",
      " 36 L\n",
      " 1.1 Cr\n",
      " 1.79 Cr\n",
      " 1.02 Cr\n",
      " 64.47 L\n",
      " 1.55 Cr\n"
     ]
    }
   ],
   "source": [
    "for x in soup.find_all('div', attrs={'data-type':'price-link'}):\n",
    "    print(x.text)"
   ]
  },
  {
   "cell_type": "code",
   "execution_count": 43,
   "id": "cefedefd",
   "metadata": {},
   "outputs": [
    {
     "name": "stdout",
     "output_type": "stream",
     "text": [
      "3209 \n",
      "3300 \n",
      "1144 \n",
      "2548 \n",
      "1042 \n",
      "1900 \n",
      "1965 \n",
      "1310 \n",
      "1735 \n",
      "3062 \n",
      "5080 \n",
      "4685 \n",
      "1295 \n",
      "1503 \n",
      "1800 \n",
      "1471 \n",
      "2810 \n",
      "1339 \n",
      "1535 \n",
      "2545 \n"
     ]
    }
   ],
   "source": [
    "for x in soup.find_all('td', attrs={'class':'size'}):\n",
    "    print(x.text)"
   ]
  },
  {
   "cell_type": "code",
   "execution_count": 44,
   "id": "95ffa2e8",
   "metadata": {},
   "outputs": [
    {
     "name": "stdout",
     "output_type": "stream",
     "text": [
      "Saket Engineers Pvt LtdBUILDER0\n",
      "GHR InfraBUILDER0\n",
      "MKT Praneeth HomesBUILDER0\n",
      "Candeur Developers And BuildersBUILDER0\n",
      "Srija Infra Developers HyderabadBUILDER0\n",
      "Signature AvenuesBUILDER0\n",
      "Vasavi GroupBUILDER0\n",
      "Aavasa ConstructionsBUILDER0\n",
      "G K ConstructionsBUILDER0\n",
      "R V Nirmaan Private LimitedBUILDER0\n",
      "Hallmark BuildersBUILDER0\n",
      "Vishal Projects LimitedBUILDER0\n",
      "Ira RealityBUILDER0\n",
      "Ridge Homes LLPBUILDER0\n",
      "Haripriya DevelopersBUILDER0\n",
      "Cyber City OrianaBUILDER0\n",
      "Anuhar Homes Pvt LtdBUILDER0\n",
      "Jain Housing Constructions LtdBUILDER0\n",
      "Vajra Builders And DevelopersBUILDER0\n",
      "Om Sree Builders And DevelopersBUILDER0\n"
     ]
    }
   ],
   "source": [
    "for x in soup.find_all('div', attrs={'class':'seller-info'}):\n",
    "    print(x.text)"
   ]
  },
  {
   "cell_type": "code",
   "execution_count": 45,
   "id": "4649af60",
   "metadata": {},
   "outputs": [
    {
     "name": "stdout",
     "output_type": "stream",
     "text": [
      "7,749 / sq ft\n",
      "4,799 / sq ft\n",
      "3,800 / sq ft\n",
      "7,810 / sq ft\n",
      "4,800 / sq ft\n",
      "4,999 / sq ft\n",
      "5,500 / sq ft\n",
      "6,500 / sq ft\n",
      "5,400 / sq ft\n",
      "11,888 / sq ft\n",
      "7,799 / sq ft\n",
      "9,754 / sq ft\n",
      "4,998 / sq ft\n",
      "3,000 / sq ft\n",
      "2,000 / sq ft\n",
      "7,501 / sq ft\n",
      "6,400 / sq ft\n",
      "7,650 / sq ft\n",
      "4,200 / sq ft\n",
      "6,100 / sq ft\n"
     ]
    }
   ],
   "source": [
    "for x in soup.find_all('td', attrs={'class':'lbl rate'}):\n",
    "    print(x.text)"
   ]
  },
  {
   "cell_type": "code",
   "execution_count": 46,
   "id": "9c37b47f",
   "metadata": {},
   "outputs": [
    {
     "name": "stdout",
     "output_type": "stream",
     "text": [
      "Page 1 completed in 0.7278769016265869 seconds\n",
      "Page 2 completed in 0.6755199432373047 seconds\n",
      "Page 3 completed in 0.8255500793457031 seconds\n",
      "Page 4 completed in 0.7365009784698486 seconds\n",
      "Page 5 completed in 0.7382090091705322 seconds\n",
      "Page 6 completed in 0.7570374011993408 seconds\n",
      "Page 7 completed in 0.7343006134033203 seconds\n",
      "Page 8 completed in 0.7223494052886963 seconds\n",
      "Page 9 completed in 0.7236309051513672 seconds\n",
      "Page 10 completed in 0.8195371627807617 seconds\n",
      "Page 11 completed in 0.8010373115539551 seconds\n",
      "Page 12 completed in 0.7994792461395264 seconds\n",
      "Page 13 completed in 0.7378993034362793 seconds\n",
      "Page 14 completed in 0.741788387298584 seconds\n",
      "Page 15 completed in 0.8362071514129639 seconds\n",
      "Page 16 completed in 0.7555811405181885 seconds\n",
      "Page 17 completed in 0.7846901416778564 seconds\n",
      "Page 18 completed in 0.7240321636199951 seconds\n",
      "Page 19 completed in 0.8298032283782959 seconds\n",
      "Page 20 completed in 0.7198748588562012 seconds\n",
      "Page 21 completed in 0.7721242904663086 seconds\n",
      "Page 22 completed in 0.7239024639129639 seconds\n",
      "Page 23 completed in 0.8521647453308105 seconds\n",
      "Page 24 completed in 0.7832915782928467 seconds\n",
      "Page 25 completed in 0.7692892551422119 seconds\n",
      "Page 26 completed in 0.758495569229126 seconds\n",
      "Page 27 completed in 0.7369883060455322 seconds\n",
      "Page 28 completed in 0.7260482311248779 seconds\n",
      "Page 29 completed in 0.7087123394012451 seconds\n",
      "Page 30 completed in 0.7959294319152832 seconds\n",
      "Page 31 completed in 1.0112183094024658 seconds\n",
      "Page 32 completed in 0.8513038158416748 seconds\n",
      "Page 33 completed in 0.9254591464996338 seconds\n",
      "Page 34 completed in 0.848071813583374 seconds\n",
      "Page 35 completed in 0.9319570064544678 seconds\n",
      "Page 36 completed in 1.075753927230835 seconds\n",
      "Page 37 completed in 0.7670731544494629 seconds\n",
      "Page 38 completed in 0.764765739440918 seconds\n",
      "Page 39 completed in 0.8191943168640137 seconds\n",
      "Page 40 completed in 0.8680336475372314 seconds\n",
      "Page 41 completed in 0.7327978610992432 seconds\n",
      "Page 42 completed in 0.8185927867889404 seconds\n",
      "Page 43 completed in 0.8676395416259766 seconds\n",
      "Page 44 completed in 0.772026538848877 seconds\n",
      "Page 45 completed in 0.7623310089111328 seconds\n",
      "Page 46 completed in 0.7627718448638916 seconds\n",
      "Page 47 completed in 0.8575272560119629 seconds\n",
      "Page 48 completed in 0.7938222885131836 seconds\n",
      "Page 49 completed in 0.8562982082366943 seconds\n",
      "Page 50 completed in 0.8595089912414551 seconds\n"
     ]
    }
   ],
   "source": [
    "Housetype =[]\n",
    "Resedentialarea=[]\n",
    "Price=[]\n",
    "Areasqft=[]\n",
    "Builder=[]\n",
    "Pricesqft=[]\n",
    "pagenum=[]\n",
    "\n",
    "\n",
    "for i in range(1,51):\n",
    "    start_time = time.time()\n",
    "    url = 'https://www.makaan.com/hyderabad-residential-property/buy-property-in-hyderabad-city?page={}'.format(i)\n",
    "    page = requests.get(url)\n",
    "    pagecontent = page.text\n",
    "    soup = BeautifulSoup(pagecontent)\n",
    "    \n",
    "    for x in soup.find_all('div', attrs={'data-type':'listing-card'}):\n",
    "        housetype = x.find('a', attrs={'class':'typelink'})\n",
    "        resedentialarea=x.find('a', attrs={'class':'loclink'})\n",
    "        price=x.find('div', attrs={'data-type':'price-link'})\n",
    "        areasqft=x.find('td', attrs={'class':'size'})\n",
    "        builder = x.find('div', attrs={'class':'seller-info'})\n",
    "        pricesqft = x.find('td', attrs={'class':'lbl rate'})\n",
    "        \n",
    "        \n",
    "        if housetype is None:\n",
    "            Housetype.append(np.NaN)\n",
    "        else:\n",
    "            Housetype.append(housetype.text)\n",
    "            \n",
    "        if resedentialarea is None:\n",
    "            Resedentialarea.append(np.NaN)\n",
    "        else:\n",
    "            Resedentialarea.append(resedentialarea.text)\n",
    "            \n",
    "        if price is None:\n",
    "            Price.append(np.NaN)\n",
    "        else:\n",
    "            Price.append(price.text)\n",
    "            \n",
    "        if areasqft is None:\n",
    "            Areasqft.append(np.NaN)\n",
    "        else:\n",
    "            Areasqft.append(areasqft.text)\n",
    "            \n",
    "        if builder is None:\n",
    "            Builder.append(np.NaN)\n",
    "        else:\n",
    "            Builder.append(builder.text)\n",
    "            \n",
    "        if pricesqft is None:\n",
    "            Pricesqft.append(np.NaN)\n",
    "        else:\n",
    "            Pricesqft.append(pricesqft.text)\n",
    "            \n",
    "        pagenum.append(i)\n",
    "\n",
    "    print('Page {} completed in {} seconds'.format(i, time.time() -  start_time))"
   ]
  },
  {
   "cell_type": "code",
   "execution_count": 47,
   "id": "c8fb03ea",
   "metadata": {},
   "outputs": [
    {
     "data": {
      "text/plain": [
       "1000"
      ]
     },
     "execution_count": 47,
     "metadata": {},
     "output_type": "execute_result"
    }
   ],
   "source": [
    "len(Housetype)"
   ]
  },
  {
   "cell_type": "code",
   "execution_count": 48,
   "id": "8d7c771d",
   "metadata": {},
   "outputs": [],
   "source": [
    "housing_df = pd.DataFrame({'house_type':Housetype , 'price': Price , 'resedential_area': Resedentialarea , 'area_sqft':Areasqft,'builder':Builder,'price_sqft':Pricesqft, 'pagenumber': pagenum})"
   ]
  },
  {
   "cell_type": "code",
   "execution_count": 49,
   "id": "0f132367",
   "metadata": {},
   "outputs": [
    {
     "data": {
      "text/html": [
       "<div>\n",
       "<style scoped>\n",
       "    .dataframe tbody tr th:only-of-type {\n",
       "        vertical-align: middle;\n",
       "    }\n",
       "\n",
       "    .dataframe tbody tr th {\n",
       "        vertical-align: top;\n",
       "    }\n",
       "\n",
       "    .dataframe thead th {\n",
       "        text-align: right;\n",
       "    }\n",
       "</style>\n",
       "<table border=\"1\" class=\"dataframe\">\n",
       "  <thead>\n",
       "    <tr style=\"text-align: right;\">\n",
       "      <th></th>\n",
       "      <th>house_type</th>\n",
       "      <th>price</th>\n",
       "      <th>resedential_area</th>\n",
       "      <th>area_sqft</th>\n",
       "      <th>builder</th>\n",
       "      <th>price_sqft</th>\n",
       "      <th>pagenumber</th>\n",
       "    </tr>\n",
       "  </thead>\n",
       "  <tbody>\n",
       "    <tr>\n",
       "      <th>0</th>\n",
       "      <td>3 BHK Villa</td>\n",
       "      <td>2.48 Cr</td>\n",
       "      <td>Kompally, Hyderabad</td>\n",
       "      <td>3209</td>\n",
       "      <td>Saket Engineers Pvt LtdBUILDER0</td>\n",
       "      <td>7,749 / sq ft</td>\n",
       "      <td>1</td>\n",
       "    </tr>\n",
       "    <tr>\n",
       "      <th>1</th>\n",
       "      <td>4 BHK Apartment</td>\n",
       "      <td>1.58 Cr</td>\n",
       "      <td>Kollur, Hyderabad</td>\n",
       "      <td>3300</td>\n",
       "      <td>GHR InfraBUILDER0</td>\n",
       "      <td>4,799 / sq ft</td>\n",
       "      <td>1</td>\n",
       "    </tr>\n",
       "    <tr>\n",
       "      <th>2</th>\n",
       "      <td>2 BHK Apartment</td>\n",
       "      <td>43.47 L</td>\n",
       "      <td>Isnapur, Hyderabad</td>\n",
       "      <td>1144</td>\n",
       "      <td>MKT Praneeth HomesBUILDER0</td>\n",
       "      <td>3,800 / sq ft</td>\n",
       "      <td>1</td>\n",
       "    </tr>\n",
       "    <tr>\n",
       "      <th>3</th>\n",
       "      <td>3 BHK Apartment</td>\n",
       "      <td>1.99 Cr</td>\n",
       "      <td>Serilingampally, Hyderabad</td>\n",
       "      <td>2548</td>\n",
       "      <td>Candeur Developers And BuildersBUILDER0</td>\n",
       "      <td>7,810 / sq ft</td>\n",
       "      <td>1</td>\n",
       "    </tr>\n",
       "    <tr>\n",
       "      <th>4</th>\n",
       "      <td>2 BHK Apartment</td>\n",
       "      <td>50.01 L</td>\n",
       "      <td>Dammaiguda, Hyderabad</td>\n",
       "      <td>1042</td>\n",
       "      <td>Srija Infra Developers HyderabadBUILDER0</td>\n",
       "      <td>4,800 / sq ft</td>\n",
       "      <td>1</td>\n",
       "    </tr>\n",
       "  </tbody>\n",
       "</table>\n",
       "</div>"
      ],
      "text/plain": [
       "        house_type     price            resedential_area area_sqft  \\\n",
       "0      3 BHK Villa   2.48 Cr         Kompally, Hyderabad     3209    \n",
       "1  4 BHK Apartment   1.58 Cr           Kollur, Hyderabad     3300    \n",
       "2  2 BHK Apartment   43.47 L          Isnapur, Hyderabad     1144    \n",
       "3  3 BHK Apartment   1.99 Cr  Serilingampally, Hyderabad     2548    \n",
       "4  2 BHK Apartment   50.01 L       Dammaiguda, Hyderabad     1042    \n",
       "\n",
       "                                    builder     price_sqft  pagenumber  \n",
       "0           Saket Engineers Pvt LtdBUILDER0  7,749 / sq ft           1  \n",
       "1                         GHR InfraBUILDER0  4,799 / sq ft           1  \n",
       "2                MKT Praneeth HomesBUILDER0  3,800 / sq ft           1  \n",
       "3   Candeur Developers And BuildersBUILDER0  7,810 / sq ft           1  \n",
       "4  Srija Infra Developers HyderabadBUILDER0  4,800 / sq ft           1  "
      ]
     },
     "execution_count": 49,
     "metadata": {},
     "output_type": "execute_result"
    }
   ],
   "source": [
    "housing_df.head()"
   ]
  },
  {
   "cell_type": "code",
   "execution_count": 50,
   "id": "77f4b542",
   "metadata": {},
   "outputs": [
    {
     "name": "stdout",
     "output_type": "stream",
     "text": [
      "<class 'pandas.core.frame.DataFrame'>\n",
      "RangeIndex: 1000 entries, 0 to 999\n",
      "Data columns (total 7 columns):\n",
      " #   Column            Non-Null Count  Dtype \n",
      "---  ------            --------------  ----- \n",
      " 0   house_type        1000 non-null   object\n",
      " 1   price             1000 non-null   object\n",
      " 2   resedential_area  1000 non-null   object\n",
      " 3   area_sqft         1000 non-null   object\n",
      " 4   builder           1000 non-null   object\n",
      " 5   price_sqft        1000 non-null   object\n",
      " 6   pagenumber        1000 non-null   int64 \n",
      "dtypes: int64(1), object(6)\n",
      "memory usage: 54.8+ KB\n"
     ]
    }
   ],
   "source": [
    "housing_df.info()"
   ]
  },
  {
   "cell_type": "code",
   "execution_count": 51,
   "id": "6f938a49",
   "metadata": {},
   "outputs": [
    {
     "data": {
      "text/plain": [
       "house_type          0\n",
       "price               0\n",
       "resedential_area    0\n",
       "area_sqft           0\n",
       "builder             0\n",
       "price_sqft          0\n",
       "pagenumber          0\n",
       "dtype: int64"
      ]
     },
     "execution_count": 51,
     "metadata": {},
     "output_type": "execute_result"
    }
   ],
   "source": [
    "housing_df.isnull().sum()"
   ]
  },
  {
   "cell_type": "code",
   "execution_count": 52,
   "id": "69f3633e",
   "metadata": {},
   "outputs": [],
   "source": [
    "housing_df['house_type'] = housing_df['house_type'].apply(lambda x: ''.join(x))"
   ]
  },
  {
   "cell_type": "code",
   "execution_count": 53,
   "id": "5ed9ee6a",
   "metadata": {},
   "outputs": [],
   "source": [
    "housing_df['price'] = housing_df['price'].apply(lambda x: ''.join(x))"
   ]
  },
  {
   "cell_type": "code",
   "execution_count": 54,
   "id": "c249038d",
   "metadata": {},
   "outputs": [],
   "source": [
    "housing_df['builder'] = housing_df['builder'].apply(lambda x: ''.join(x))"
   ]
  },
  {
   "cell_type": "code",
   "execution_count": 55,
   "id": "3db3621b",
   "metadata": {},
   "outputs": [],
   "source": [
    "housing_df['resedential_area'] = housing_df['resedential_area'].apply(lambda x: ''.join(x))"
   ]
  },
  {
   "cell_type": "code",
   "execution_count": 56,
   "id": "9a897576",
   "metadata": {},
   "outputs": [],
   "source": [
    "housing_df.to_csv('housing_df.csv')"
   ]
  },
  {
   "cell_type": "code",
   "execution_count": 57,
   "id": "e4c8398e",
   "metadata": {},
   "outputs": [],
   "source": [
    "## extract cost_sqft\n",
    "regex = r'[0-9]+'\n",
    "housing_df['cost_sqft']= housing_df['price_sqft'].apply(lambda x: re.compile(regex).findall(x))"
   ]
  },
  {
   "cell_type": "code",
   "execution_count": 58,
   "id": "02730e9f",
   "metadata": {},
   "outputs": [
    {
     "data": {
      "text/html": [
       "<div>\n",
       "<style scoped>\n",
       "    .dataframe tbody tr th:only-of-type {\n",
       "        vertical-align: middle;\n",
       "    }\n",
       "\n",
       "    .dataframe tbody tr th {\n",
       "        vertical-align: top;\n",
       "    }\n",
       "\n",
       "    .dataframe thead th {\n",
       "        text-align: right;\n",
       "    }\n",
       "</style>\n",
       "<table border=\"1\" class=\"dataframe\">\n",
       "  <thead>\n",
       "    <tr style=\"text-align: right;\">\n",
       "      <th></th>\n",
       "      <th>house_type</th>\n",
       "      <th>price</th>\n",
       "      <th>resedential_area</th>\n",
       "      <th>area_sqft</th>\n",
       "      <th>builder</th>\n",
       "      <th>price_sqft</th>\n",
       "      <th>pagenumber</th>\n",
       "      <th>cost_sqft</th>\n",
       "    </tr>\n",
       "  </thead>\n",
       "  <tbody>\n",
       "    <tr>\n",
       "      <th>0</th>\n",
       "      <td>3 BHK Villa</td>\n",
       "      <td>2.48 Cr</td>\n",
       "      <td>Kompally, Hyderabad</td>\n",
       "      <td>3209</td>\n",
       "      <td>Saket Engineers Pvt LtdBUILDER0</td>\n",
       "      <td>7,749 / sq ft</td>\n",
       "      <td>1</td>\n",
       "      <td>[7, 749]</td>\n",
       "    </tr>\n",
       "    <tr>\n",
       "      <th>1</th>\n",
       "      <td>4 BHK Apartment</td>\n",
       "      <td>1.58 Cr</td>\n",
       "      <td>Kollur, Hyderabad</td>\n",
       "      <td>3300</td>\n",
       "      <td>GHR InfraBUILDER0</td>\n",
       "      <td>4,799 / sq ft</td>\n",
       "      <td>1</td>\n",
       "      <td>[4, 799]</td>\n",
       "    </tr>\n",
       "    <tr>\n",
       "      <th>2</th>\n",
       "      <td>2 BHK Apartment</td>\n",
       "      <td>43.47 L</td>\n",
       "      <td>Isnapur, Hyderabad</td>\n",
       "      <td>1144</td>\n",
       "      <td>MKT Praneeth HomesBUILDER0</td>\n",
       "      <td>3,800 / sq ft</td>\n",
       "      <td>1</td>\n",
       "      <td>[3, 800]</td>\n",
       "    </tr>\n",
       "    <tr>\n",
       "      <th>3</th>\n",
       "      <td>3 BHK Apartment</td>\n",
       "      <td>1.99 Cr</td>\n",
       "      <td>Serilingampally, Hyderabad</td>\n",
       "      <td>2548</td>\n",
       "      <td>Candeur Developers And BuildersBUILDER0</td>\n",
       "      <td>7,810 / sq ft</td>\n",
       "      <td>1</td>\n",
       "      <td>[7, 810]</td>\n",
       "    </tr>\n",
       "    <tr>\n",
       "      <th>4</th>\n",
       "      <td>2 BHK Apartment</td>\n",
       "      <td>50.01 L</td>\n",
       "      <td>Dammaiguda, Hyderabad</td>\n",
       "      <td>1042</td>\n",
       "      <td>Srija Infra Developers HyderabadBUILDER0</td>\n",
       "      <td>4,800 / sq ft</td>\n",
       "      <td>1</td>\n",
       "      <td>[4, 800]</td>\n",
       "    </tr>\n",
       "  </tbody>\n",
       "</table>\n",
       "</div>"
      ],
      "text/plain": [
       "        house_type     price            resedential_area area_sqft  \\\n",
       "0      3 BHK Villa   2.48 Cr         Kompally, Hyderabad     3209    \n",
       "1  4 BHK Apartment   1.58 Cr           Kollur, Hyderabad     3300    \n",
       "2  2 BHK Apartment   43.47 L          Isnapur, Hyderabad     1144    \n",
       "3  3 BHK Apartment   1.99 Cr  Serilingampally, Hyderabad     2548    \n",
       "4  2 BHK Apartment   50.01 L       Dammaiguda, Hyderabad     1042    \n",
       "\n",
       "                                    builder     price_sqft  pagenumber  \\\n",
       "0           Saket Engineers Pvt LtdBUILDER0  7,749 / sq ft           1   \n",
       "1                         GHR InfraBUILDER0  4,799 / sq ft           1   \n",
       "2                MKT Praneeth HomesBUILDER0  3,800 / sq ft           1   \n",
       "3   Candeur Developers And BuildersBUILDER0  7,810 / sq ft           1   \n",
       "4  Srija Infra Developers HyderabadBUILDER0  4,800 / sq ft           1   \n",
       "\n",
       "  cost_sqft  \n",
       "0  [7, 749]  \n",
       "1  [4, 799]  \n",
       "2  [3, 800]  \n",
       "3  [7, 810]  \n",
       "4  [4, 800]  "
      ]
     },
     "execution_count": 58,
     "metadata": {},
     "output_type": "execute_result"
    }
   ],
   "source": [
    "housing_df.head()"
   ]
  },
  {
   "cell_type": "code",
   "execution_count": 59,
   "id": "419f1837",
   "metadata": {},
   "outputs": [
    {
     "data": {
      "text/html": [
       "<div>\n",
       "<style scoped>\n",
       "    .dataframe tbody tr th:only-of-type {\n",
       "        vertical-align: middle;\n",
       "    }\n",
       "\n",
       "    .dataframe tbody tr th {\n",
       "        vertical-align: top;\n",
       "    }\n",
       "\n",
       "    .dataframe thead th {\n",
       "        text-align: right;\n",
       "    }\n",
       "</style>\n",
       "<table border=\"1\" class=\"dataframe\">\n",
       "  <thead>\n",
       "    <tr style=\"text-align: right;\">\n",
       "      <th></th>\n",
       "      <th>house_type</th>\n",
       "      <th>price</th>\n",
       "      <th>resedential_area</th>\n",
       "      <th>area_sqft</th>\n",
       "      <th>builder</th>\n",
       "      <th>price_sqft</th>\n",
       "      <th>pagenumber</th>\n",
       "      <th>cost_sqft</th>\n",
       "    </tr>\n",
       "  </thead>\n",
       "  <tbody>\n",
       "    <tr>\n",
       "      <th>995</th>\n",
       "      <td>Residential Plot</td>\n",
       "      <td>11 L</td>\n",
       "      <td>Yacharam, Hyderabad</td>\n",
       "      <td>1350</td>\n",
       "      <td>sellerVERIFIED OWNER</td>\n",
       "      <td>814 / sq ft</td>\n",
       "      <td>50</td>\n",
       "      <td>814</td>\n",
       "    </tr>\n",
       "    <tr>\n",
       "      <th>996</th>\n",
       "      <td>3 BHK Apartment</td>\n",
       "      <td>1.62 Cr</td>\n",
       "      <td>Kokapet, Hyderabad</td>\n",
       "      <td>1610</td>\n",
       "      <td>sellerVERIFIED OWNER</td>\n",
       "      <td>10,062 / sq ft</td>\n",
       "      <td>50</td>\n",
       "      <td>10062</td>\n",
       "    </tr>\n",
       "    <tr>\n",
       "      <th>997</th>\n",
       "      <td>3 BHK Apartment</td>\n",
       "      <td>85 L</td>\n",
       "      <td>Bandlaguda Jagir, Hyderabad</td>\n",
       "      <td>1550</td>\n",
       "      <td>sellerVERIFIED OWNER</td>\n",
       "      <td>5,483 / sq ft</td>\n",
       "      <td>50</td>\n",
       "      <td>5483</td>\n",
       "    </tr>\n",
       "    <tr>\n",
       "      <th>998</th>\n",
       "      <td>Residential Plot</td>\n",
       "      <td>28.36 L</td>\n",
       "      <td>Sadashivpet, Hyderabad</td>\n",
       "      <td>13365</td>\n",
       "      <td>sellerVERIFIED OWNER</td>\n",
       "      <td>212 / sq ft</td>\n",
       "      <td>50</td>\n",
       "      <td>212</td>\n",
       "    </tr>\n",
       "    <tr>\n",
       "      <th>999</th>\n",
       "      <td>3 BHK Independent House</td>\n",
       "      <td>1.5 Cr</td>\n",
       "      <td>Dammaiguda, Hyderabad</td>\n",
       "      <td>1800</td>\n",
       "      <td>sellerVERIFIED OWNER</td>\n",
       "      <td>8,333 / sq ft</td>\n",
       "      <td>50</td>\n",
       "      <td>8333</td>\n",
       "    </tr>\n",
       "  </tbody>\n",
       "</table>\n",
       "</div>"
      ],
      "text/plain": [
       "                  house_type     price             resedential_area area_sqft  \\\n",
       "995         Residential Plot      11 L          Yacharam, Hyderabad     1350    \n",
       "996          3 BHK Apartment   1.62 Cr           Kokapet, Hyderabad     1610    \n",
       "997          3 BHK Apartment      85 L  Bandlaguda Jagir, Hyderabad     1550    \n",
       "998         Residential Plot   28.36 L       Sadashivpet, Hyderabad    13365    \n",
       "999  3 BHK Independent House    1.5 Cr        Dammaiguda, Hyderabad     1800    \n",
       "\n",
       "                  builder      price_sqft  pagenumber cost_sqft  \n",
       "995  sellerVERIFIED OWNER     814 / sq ft          50       814  \n",
       "996  sellerVERIFIED OWNER  10,062 / sq ft          50     10062  \n",
       "997  sellerVERIFIED OWNER   5,483 / sq ft          50      5483  \n",
       "998  sellerVERIFIED OWNER     212 / sq ft          50       212  \n",
       "999  sellerVERIFIED OWNER   8,333 / sq ft          50      8333  "
      ]
     },
     "execution_count": 59,
     "metadata": {},
     "output_type": "execute_result"
    }
   ],
   "source": [
    "housing_df['cost_sqft'] = housing_df['cost_sqft'].apply(lambda x: ''.join(x))\n",
    "housing_df.tail()"
   ]
  },
  {
   "cell_type": "code",
   "execution_count": 60,
   "id": "9adf95d8",
   "metadata": {},
   "outputs": [],
   "source": [
    "# extract room_features\n",
    "regex = r'(?:Residential Plot|[1-9]\\s+(?:BHK|RK))'\n",
    "housing_df['room_features']= housing_df['house_type'].apply(lambda x: re.compile(regex).findall(x))"
   ]
  },
  {
   "cell_type": "code",
   "execution_count": 61,
   "id": "965d19dd",
   "metadata": {},
   "outputs": [
    {
     "data": {
      "text/html": [
       "<div>\n",
       "<style scoped>\n",
       "    .dataframe tbody tr th:only-of-type {\n",
       "        vertical-align: middle;\n",
       "    }\n",
       "\n",
       "    .dataframe tbody tr th {\n",
       "        vertical-align: top;\n",
       "    }\n",
       "\n",
       "    .dataframe thead th {\n",
       "        text-align: right;\n",
       "    }\n",
       "</style>\n",
       "<table border=\"1\" class=\"dataframe\">\n",
       "  <thead>\n",
       "    <tr style=\"text-align: right;\">\n",
       "      <th></th>\n",
       "      <th>house_type</th>\n",
       "      <th>price</th>\n",
       "      <th>resedential_area</th>\n",
       "      <th>area_sqft</th>\n",
       "      <th>builder</th>\n",
       "      <th>price_sqft</th>\n",
       "      <th>pagenumber</th>\n",
       "      <th>cost_sqft</th>\n",
       "      <th>room_features</th>\n",
       "    </tr>\n",
       "  </thead>\n",
       "  <tbody>\n",
       "    <tr>\n",
       "      <th>995</th>\n",
       "      <td>Residential Plot</td>\n",
       "      <td>11 L</td>\n",
       "      <td>Yacharam, Hyderabad</td>\n",
       "      <td>1350</td>\n",
       "      <td>sellerVERIFIED OWNER</td>\n",
       "      <td>814 / sq ft</td>\n",
       "      <td>50</td>\n",
       "      <td>814</td>\n",
       "      <td>[Residential Plot]</td>\n",
       "    </tr>\n",
       "    <tr>\n",
       "      <th>996</th>\n",
       "      <td>3 BHK Apartment</td>\n",
       "      <td>1.62 Cr</td>\n",
       "      <td>Kokapet, Hyderabad</td>\n",
       "      <td>1610</td>\n",
       "      <td>sellerVERIFIED OWNER</td>\n",
       "      <td>10,062 / sq ft</td>\n",
       "      <td>50</td>\n",
       "      <td>10062</td>\n",
       "      <td>[3 BHK]</td>\n",
       "    </tr>\n",
       "    <tr>\n",
       "      <th>997</th>\n",
       "      <td>3 BHK Apartment</td>\n",
       "      <td>85 L</td>\n",
       "      <td>Bandlaguda Jagir, Hyderabad</td>\n",
       "      <td>1550</td>\n",
       "      <td>sellerVERIFIED OWNER</td>\n",
       "      <td>5,483 / sq ft</td>\n",
       "      <td>50</td>\n",
       "      <td>5483</td>\n",
       "      <td>[3 BHK]</td>\n",
       "    </tr>\n",
       "    <tr>\n",
       "      <th>998</th>\n",
       "      <td>Residential Plot</td>\n",
       "      <td>28.36 L</td>\n",
       "      <td>Sadashivpet, Hyderabad</td>\n",
       "      <td>13365</td>\n",
       "      <td>sellerVERIFIED OWNER</td>\n",
       "      <td>212 / sq ft</td>\n",
       "      <td>50</td>\n",
       "      <td>212</td>\n",
       "      <td>[Residential Plot]</td>\n",
       "    </tr>\n",
       "    <tr>\n",
       "      <th>999</th>\n",
       "      <td>3 BHK Independent House</td>\n",
       "      <td>1.5 Cr</td>\n",
       "      <td>Dammaiguda, Hyderabad</td>\n",
       "      <td>1800</td>\n",
       "      <td>sellerVERIFIED OWNER</td>\n",
       "      <td>8,333 / sq ft</td>\n",
       "      <td>50</td>\n",
       "      <td>8333</td>\n",
       "      <td>[3 BHK]</td>\n",
       "    </tr>\n",
       "  </tbody>\n",
       "</table>\n",
       "</div>"
      ],
      "text/plain": [
       "                  house_type     price             resedential_area area_sqft  \\\n",
       "995         Residential Plot      11 L          Yacharam, Hyderabad     1350    \n",
       "996          3 BHK Apartment   1.62 Cr           Kokapet, Hyderabad     1610    \n",
       "997          3 BHK Apartment      85 L  Bandlaguda Jagir, Hyderabad     1550    \n",
       "998         Residential Plot   28.36 L       Sadashivpet, Hyderabad    13365    \n",
       "999  3 BHK Independent House    1.5 Cr        Dammaiguda, Hyderabad     1800    \n",
       "\n",
       "                  builder      price_sqft  pagenumber cost_sqft  \\\n",
       "995  sellerVERIFIED OWNER     814 / sq ft          50       814   \n",
       "996  sellerVERIFIED OWNER  10,062 / sq ft          50     10062   \n",
       "997  sellerVERIFIED OWNER   5,483 / sq ft          50      5483   \n",
       "998  sellerVERIFIED OWNER     212 / sq ft          50       212   \n",
       "999  sellerVERIFIED OWNER   8,333 / sq ft          50      8333   \n",
       "\n",
       "          room_features  \n",
       "995  [Residential Plot]  \n",
       "996             [3 BHK]  \n",
       "997             [3 BHK]  \n",
       "998  [Residential Plot]  \n",
       "999             [3 BHK]  "
      ]
     },
     "execution_count": 61,
     "metadata": {},
     "output_type": "execute_result"
    }
   ],
   "source": [
    "housing_df.tail()"
   ]
  },
  {
   "cell_type": "code",
   "execution_count": 62,
   "id": "0216ef1a",
   "metadata": {},
   "outputs": [
    {
     "data": {
      "text/html": [
       "<div>\n",
       "<style scoped>\n",
       "    .dataframe tbody tr th:only-of-type {\n",
       "        vertical-align: middle;\n",
       "    }\n",
       "\n",
       "    .dataframe tbody tr th {\n",
       "        vertical-align: top;\n",
       "    }\n",
       "\n",
       "    .dataframe thead th {\n",
       "        text-align: right;\n",
       "    }\n",
       "</style>\n",
       "<table border=\"1\" class=\"dataframe\">\n",
       "  <thead>\n",
       "    <tr style=\"text-align: right;\">\n",
       "      <th></th>\n",
       "      <th>house_type</th>\n",
       "      <th>price</th>\n",
       "      <th>resedential_area</th>\n",
       "      <th>area_sqft</th>\n",
       "      <th>builder</th>\n",
       "      <th>price_sqft</th>\n",
       "      <th>pagenumber</th>\n",
       "      <th>cost_sqft</th>\n",
       "      <th>room_features</th>\n",
       "    </tr>\n",
       "  </thead>\n",
       "  <tbody>\n",
       "    <tr>\n",
       "      <th>995</th>\n",
       "      <td>Residential Plot</td>\n",
       "      <td>11 L</td>\n",
       "      <td>Yacharam, Hyderabad</td>\n",
       "      <td>1350</td>\n",
       "      <td>sellerVERIFIED OWNER</td>\n",
       "      <td>814 / sq ft</td>\n",
       "      <td>50</td>\n",
       "      <td>814</td>\n",
       "      <td>Residential Plot</td>\n",
       "    </tr>\n",
       "    <tr>\n",
       "      <th>996</th>\n",
       "      <td>3 BHK Apartment</td>\n",
       "      <td>1.62 Cr</td>\n",
       "      <td>Kokapet, Hyderabad</td>\n",
       "      <td>1610</td>\n",
       "      <td>sellerVERIFIED OWNER</td>\n",
       "      <td>10,062 / sq ft</td>\n",
       "      <td>50</td>\n",
       "      <td>10062</td>\n",
       "      <td>3 BHK</td>\n",
       "    </tr>\n",
       "    <tr>\n",
       "      <th>997</th>\n",
       "      <td>3 BHK Apartment</td>\n",
       "      <td>85 L</td>\n",
       "      <td>Bandlaguda Jagir, Hyderabad</td>\n",
       "      <td>1550</td>\n",
       "      <td>sellerVERIFIED OWNER</td>\n",
       "      <td>5,483 / sq ft</td>\n",
       "      <td>50</td>\n",
       "      <td>5483</td>\n",
       "      <td>3 BHK</td>\n",
       "    </tr>\n",
       "    <tr>\n",
       "      <th>998</th>\n",
       "      <td>Residential Plot</td>\n",
       "      <td>28.36 L</td>\n",
       "      <td>Sadashivpet, Hyderabad</td>\n",
       "      <td>13365</td>\n",
       "      <td>sellerVERIFIED OWNER</td>\n",
       "      <td>212 / sq ft</td>\n",
       "      <td>50</td>\n",
       "      <td>212</td>\n",
       "      <td>Residential Plot</td>\n",
       "    </tr>\n",
       "    <tr>\n",
       "      <th>999</th>\n",
       "      <td>3 BHK Independent House</td>\n",
       "      <td>1.5 Cr</td>\n",
       "      <td>Dammaiguda, Hyderabad</td>\n",
       "      <td>1800</td>\n",
       "      <td>sellerVERIFIED OWNER</td>\n",
       "      <td>8,333 / sq ft</td>\n",
       "      <td>50</td>\n",
       "      <td>8333</td>\n",
       "      <td>3 BHK</td>\n",
       "    </tr>\n",
       "  </tbody>\n",
       "</table>\n",
       "</div>"
      ],
      "text/plain": [
       "                  house_type     price             resedential_area area_sqft  \\\n",
       "995         Residential Plot      11 L          Yacharam, Hyderabad     1350    \n",
       "996          3 BHK Apartment   1.62 Cr           Kokapet, Hyderabad     1610    \n",
       "997          3 BHK Apartment      85 L  Bandlaguda Jagir, Hyderabad     1550    \n",
       "998         Residential Plot   28.36 L       Sadashivpet, Hyderabad    13365    \n",
       "999  3 BHK Independent House    1.5 Cr        Dammaiguda, Hyderabad     1800    \n",
       "\n",
       "                  builder      price_sqft  pagenumber cost_sqft  \\\n",
       "995  sellerVERIFIED OWNER     814 / sq ft          50       814   \n",
       "996  sellerVERIFIED OWNER  10,062 / sq ft          50     10062   \n",
       "997  sellerVERIFIED OWNER   5,483 / sq ft          50      5483   \n",
       "998  sellerVERIFIED OWNER     212 / sq ft          50       212   \n",
       "999  sellerVERIFIED OWNER   8,333 / sq ft          50      8333   \n",
       "\n",
       "        room_features  \n",
       "995  Residential Plot  \n",
       "996             3 BHK  \n",
       "997             3 BHK  \n",
       "998  Residential Plot  \n",
       "999             3 BHK  "
      ]
     },
     "execution_count": 62,
     "metadata": {},
     "output_type": "execute_result"
    }
   ],
   "source": [
    "housing_df['room_features'] = housing_df['room_features'].apply(lambda x: ''.join(x))\n",
    "housing_df.tail()"
   ]
  },
  {
   "cell_type": "code",
   "execution_count": 63,
   "id": "886de670",
   "metadata": {},
   "outputs": [
    {
     "data": {
      "text/plain": [
       "house_type          0\n",
       "price               0\n",
       "resedential_area    0\n",
       "area_sqft           0\n",
       "builder             0\n",
       "price_sqft          0\n",
       "pagenumber          0\n",
       "cost_sqft           0\n",
       "room_features       0\n",
       "dtype: int64"
      ]
     },
     "execution_count": 63,
     "metadata": {},
     "output_type": "execute_result"
    }
   ],
   "source": [
    "housing_df.isnull().sum()"
   ]
  },
  {
   "cell_type": "code",
   "execution_count": 64,
   "id": "2866ece2",
   "metadata": {},
   "outputs": [],
   "source": [
    "housing_df['price']= housing_df[\"price\"].replace({\" L\":\"*1\", \" Cr\":\"*1e2\"}, regex=True).map(pd.eval)"
   ]
  },
  {
   "cell_type": "code",
   "execution_count": 65,
   "id": "03095442",
   "metadata": {},
   "outputs": [
    {
     "data": {
      "text/html": [
       "<div>\n",
       "<style scoped>\n",
       "    .dataframe tbody tr th:only-of-type {\n",
       "        vertical-align: middle;\n",
       "    }\n",
       "\n",
       "    .dataframe tbody tr th {\n",
       "        vertical-align: top;\n",
       "    }\n",
       "\n",
       "    .dataframe thead th {\n",
       "        text-align: right;\n",
       "    }\n",
       "</style>\n",
       "<table border=\"1\" class=\"dataframe\">\n",
       "  <thead>\n",
       "    <tr style=\"text-align: right;\">\n",
       "      <th></th>\n",
       "      <th>house_type</th>\n",
       "      <th>price(L)</th>\n",
       "      <th>resedential_area</th>\n",
       "      <th>area_sqft</th>\n",
       "      <th>builder</th>\n",
       "      <th>price_sqft</th>\n",
       "      <th>pagenumber</th>\n",
       "      <th>cost_sqft</th>\n",
       "      <th>room_features</th>\n",
       "    </tr>\n",
       "  </thead>\n",
       "  <tbody>\n",
       "    <tr>\n",
       "      <th>995</th>\n",
       "      <td>Residential Plot</td>\n",
       "      <td>11.00</td>\n",
       "      <td>Yacharam, Hyderabad</td>\n",
       "      <td>1350</td>\n",
       "      <td>sellerVERIFIED OWNER</td>\n",
       "      <td>814 / sq ft</td>\n",
       "      <td>50</td>\n",
       "      <td>814</td>\n",
       "      <td>Residential Plot</td>\n",
       "    </tr>\n",
       "    <tr>\n",
       "      <th>996</th>\n",
       "      <td>3 BHK Apartment</td>\n",
       "      <td>162.00</td>\n",
       "      <td>Kokapet, Hyderabad</td>\n",
       "      <td>1610</td>\n",
       "      <td>sellerVERIFIED OWNER</td>\n",
       "      <td>10,062 / sq ft</td>\n",
       "      <td>50</td>\n",
       "      <td>10062</td>\n",
       "      <td>3 BHK</td>\n",
       "    </tr>\n",
       "    <tr>\n",
       "      <th>997</th>\n",
       "      <td>3 BHK Apartment</td>\n",
       "      <td>85.00</td>\n",
       "      <td>Bandlaguda Jagir, Hyderabad</td>\n",
       "      <td>1550</td>\n",
       "      <td>sellerVERIFIED OWNER</td>\n",
       "      <td>5,483 / sq ft</td>\n",
       "      <td>50</td>\n",
       "      <td>5483</td>\n",
       "      <td>3 BHK</td>\n",
       "    </tr>\n",
       "    <tr>\n",
       "      <th>998</th>\n",
       "      <td>Residential Plot</td>\n",
       "      <td>28.36</td>\n",
       "      <td>Sadashivpet, Hyderabad</td>\n",
       "      <td>13365</td>\n",
       "      <td>sellerVERIFIED OWNER</td>\n",
       "      <td>212 / sq ft</td>\n",
       "      <td>50</td>\n",
       "      <td>212</td>\n",
       "      <td>Residential Plot</td>\n",
       "    </tr>\n",
       "    <tr>\n",
       "      <th>999</th>\n",
       "      <td>3 BHK Independent House</td>\n",
       "      <td>150.00</td>\n",
       "      <td>Dammaiguda, Hyderabad</td>\n",
       "      <td>1800</td>\n",
       "      <td>sellerVERIFIED OWNER</td>\n",
       "      <td>8,333 / sq ft</td>\n",
       "      <td>50</td>\n",
       "      <td>8333</td>\n",
       "      <td>3 BHK</td>\n",
       "    </tr>\n",
       "  </tbody>\n",
       "</table>\n",
       "</div>"
      ],
      "text/plain": [
       "                  house_type  price(L)             resedential_area area_sqft  \\\n",
       "995         Residential Plot     11.00          Yacharam, Hyderabad     1350    \n",
       "996          3 BHK Apartment    162.00           Kokapet, Hyderabad     1610    \n",
       "997          3 BHK Apartment     85.00  Bandlaguda Jagir, Hyderabad     1550    \n",
       "998         Residential Plot     28.36       Sadashivpet, Hyderabad    13365    \n",
       "999  3 BHK Independent House    150.00        Dammaiguda, Hyderabad     1800    \n",
       "\n",
       "                  builder      price_sqft  pagenumber cost_sqft  \\\n",
       "995  sellerVERIFIED OWNER     814 / sq ft          50       814   \n",
       "996  sellerVERIFIED OWNER  10,062 / sq ft          50     10062   \n",
       "997  sellerVERIFIED OWNER   5,483 / sq ft          50      5483   \n",
       "998  sellerVERIFIED OWNER     212 / sq ft          50       212   \n",
       "999  sellerVERIFIED OWNER   8,333 / sq ft          50      8333   \n",
       "\n",
       "        room_features  \n",
       "995  Residential Plot  \n",
       "996             3 BHK  \n",
       "997             3 BHK  \n",
       "998  Residential Plot  \n",
       "999             3 BHK  "
      ]
     },
     "execution_count": 65,
     "metadata": {},
     "output_type": "execute_result"
    }
   ],
   "source": [
    "housing_df.rename(columns = {'price':'price(L)'},inplace = True)\n",
    "housing_df.tail()"
   ]
  },
  {
   "cell_type": "code",
   "execution_count": 66,
   "id": "0fb9030e",
   "metadata": {},
   "outputs": [],
   "source": [
    "housing_df.drop(['price_sqft'] , axis=1 , inplace=True)"
   ]
  },
  {
   "cell_type": "code",
   "execution_count": 67,
   "id": "2abec207",
   "metadata": {},
   "outputs": [
    {
     "data": {
      "text/html": [
       "<div>\n",
       "<style scoped>\n",
       "    .dataframe tbody tr th:only-of-type {\n",
       "        vertical-align: middle;\n",
       "    }\n",
       "\n",
       "    .dataframe tbody tr th {\n",
       "        vertical-align: top;\n",
       "    }\n",
       "\n",
       "    .dataframe thead th {\n",
       "        text-align: right;\n",
       "    }\n",
       "</style>\n",
       "<table border=\"1\" class=\"dataframe\">\n",
       "  <thead>\n",
       "    <tr style=\"text-align: right;\">\n",
       "      <th></th>\n",
       "      <th>house_type</th>\n",
       "      <th>price(L)</th>\n",
       "      <th>resedential_area</th>\n",
       "      <th>area_sqft</th>\n",
       "      <th>builder</th>\n",
       "      <th>pagenumber</th>\n",
       "      <th>cost_sqft</th>\n",
       "      <th>room_features</th>\n",
       "    </tr>\n",
       "  </thead>\n",
       "  <tbody>\n",
       "    <tr>\n",
       "      <th>995</th>\n",
       "      <td>Residential Plot</td>\n",
       "      <td>11.00</td>\n",
       "      <td>Yacharam, Hyderabad</td>\n",
       "      <td>1350</td>\n",
       "      <td>sellerVERIFIED OWNER</td>\n",
       "      <td>50</td>\n",
       "      <td>814</td>\n",
       "      <td>Residential Plot</td>\n",
       "    </tr>\n",
       "    <tr>\n",
       "      <th>996</th>\n",
       "      <td>3 BHK Apartment</td>\n",
       "      <td>162.00</td>\n",
       "      <td>Kokapet, Hyderabad</td>\n",
       "      <td>1610</td>\n",
       "      <td>sellerVERIFIED OWNER</td>\n",
       "      <td>50</td>\n",
       "      <td>10062</td>\n",
       "      <td>3 BHK</td>\n",
       "    </tr>\n",
       "    <tr>\n",
       "      <th>997</th>\n",
       "      <td>3 BHK Apartment</td>\n",
       "      <td>85.00</td>\n",
       "      <td>Bandlaguda Jagir, Hyderabad</td>\n",
       "      <td>1550</td>\n",
       "      <td>sellerVERIFIED OWNER</td>\n",
       "      <td>50</td>\n",
       "      <td>5483</td>\n",
       "      <td>3 BHK</td>\n",
       "    </tr>\n",
       "    <tr>\n",
       "      <th>998</th>\n",
       "      <td>Residential Plot</td>\n",
       "      <td>28.36</td>\n",
       "      <td>Sadashivpet, Hyderabad</td>\n",
       "      <td>13365</td>\n",
       "      <td>sellerVERIFIED OWNER</td>\n",
       "      <td>50</td>\n",
       "      <td>212</td>\n",
       "      <td>Residential Plot</td>\n",
       "    </tr>\n",
       "    <tr>\n",
       "      <th>999</th>\n",
       "      <td>3 BHK Independent House</td>\n",
       "      <td>150.00</td>\n",
       "      <td>Dammaiguda, Hyderabad</td>\n",
       "      <td>1800</td>\n",
       "      <td>sellerVERIFIED OWNER</td>\n",
       "      <td>50</td>\n",
       "      <td>8333</td>\n",
       "      <td>3 BHK</td>\n",
       "    </tr>\n",
       "  </tbody>\n",
       "</table>\n",
       "</div>"
      ],
      "text/plain": [
       "                  house_type  price(L)             resedential_area area_sqft  \\\n",
       "995         Residential Plot     11.00          Yacharam, Hyderabad     1350    \n",
       "996          3 BHK Apartment    162.00           Kokapet, Hyderabad     1610    \n",
       "997          3 BHK Apartment     85.00  Bandlaguda Jagir, Hyderabad     1550    \n",
       "998         Residential Plot     28.36       Sadashivpet, Hyderabad    13365    \n",
       "999  3 BHK Independent House    150.00        Dammaiguda, Hyderabad     1800    \n",
       "\n",
       "                  builder  pagenumber cost_sqft     room_features  \n",
       "995  sellerVERIFIED OWNER          50       814  Residential Plot  \n",
       "996  sellerVERIFIED OWNER          50     10062             3 BHK  \n",
       "997  sellerVERIFIED OWNER          50      5483             3 BHK  \n",
       "998  sellerVERIFIED OWNER          50       212  Residential Plot  \n",
       "999  sellerVERIFIED OWNER          50      8333             3 BHK  "
      ]
     },
     "execution_count": 67,
     "metadata": {},
     "output_type": "execute_result"
    }
   ],
   "source": [
    "housing_df.tail()"
   ]
  },
  {
   "cell_type": "code",
   "execution_count": 68,
   "id": "38750cb0",
   "metadata": {},
   "outputs": [
    {
     "name": "stdout",
     "output_type": "stream",
     "text": [
      "<class 'pandas.core.frame.DataFrame'>\n",
      "RangeIndex: 1000 entries, 0 to 999\n",
      "Data columns (total 8 columns):\n",
      " #   Column            Non-Null Count  Dtype  \n",
      "---  ------            --------------  -----  \n",
      " 0   house_type        1000 non-null   object \n",
      " 1   price(L)          1000 non-null   float64\n",
      " 2   resedential_area  1000 non-null   object \n",
      " 3   area_sqft         1000 non-null   object \n",
      " 4   builder           1000 non-null   object \n",
      " 5   pagenumber        1000 non-null   int64  \n",
      " 6   cost_sqft         1000 non-null   object \n",
      " 7   room_features     1000 non-null   object \n",
      "dtypes: float64(1), int64(1), object(6)\n",
      "memory usage: 62.6+ KB\n"
     ]
    }
   ],
   "source": [
    "housing_df.info()"
   ]
  },
  {
   "cell_type": "code",
   "execution_count": 69,
   "id": "6fe79e8c",
   "metadata": {},
   "outputs": [
    {
     "name": "stdout",
     "output_type": "stream",
     "text": [
      "<class 'pandas.core.frame.DataFrame'>\n",
      "RangeIndex: 1000 entries, 0 to 999\n",
      "Data columns (total 8 columns):\n",
      " #   Column            Non-Null Count  Dtype  \n",
      "---  ------            --------------  -----  \n",
      " 0   house_type        1000 non-null   object \n",
      " 1   price(L)          1000 non-null   float64\n",
      " 2   resedential_area  1000 non-null   object \n",
      " 3   area_sqft         1000 non-null   int32  \n",
      " 4   builder           1000 non-null   object \n",
      " 5   pagenumber        1000 non-null   int64  \n",
      " 6   cost_sqft         1000 non-null   int32  \n",
      " 7   room_features     1000 non-null   object \n",
      "dtypes: float64(1), int32(2), int64(1), object(4)\n",
      "memory usage: 54.8+ KB\n"
     ]
    }
   ],
   "source": [
    "housing_df['area_sqft']=housing_df['area_sqft'].astype(int)\n",
    "housing_df['cost_sqft']=housing_df['cost_sqft'].astype(int)\n",
    "housing_df.info()"
   ]
  },
  {
   "cell_type": "code",
   "execution_count": 70,
   "id": "8dacdc4d",
   "metadata": {},
   "outputs": [
    {
     "data": {
      "text/plain": [
       "(1000, 8)"
      ]
     },
     "execution_count": 70,
     "metadata": {},
     "output_type": "execute_result"
    }
   ],
   "source": [
    "housing_df.shape"
   ]
  },
  {
   "cell_type": "code",
   "execution_count": 71,
   "id": "62ec9713",
   "metadata": {},
   "outputs": [
    {
     "data": {
      "text/plain": [
       "array(['3 BHK', '4 BHK', '2 BHK', 'Residential Plot', '5 BHK', '8 BHK',\n",
       "       '1 BHK', '7 BHK', '6 BHK', '1 RK', ''], dtype=object)"
      ]
     },
     "execution_count": 71,
     "metadata": {},
     "output_type": "execute_result"
    }
   ],
   "source": [
    "housing_df['room_features'].unique()"
   ]
  },
  {
   "cell_type": "code",
   "execution_count": 72,
   "id": "fedcc638",
   "metadata": {},
   "outputs": [],
   "source": [
    "housing_df = housing_df.replace(r'^\\s*$', np.nan, regex=True)"
   ]
  },
  {
   "cell_type": "code",
   "execution_count": 73,
   "id": "ba1cf36f",
   "metadata": {},
   "outputs": [
    {
     "data": {
      "text/plain": [
       "house_type          0\n",
       "price(L)            0\n",
       "resedential_area    0\n",
       "area_sqft           0\n",
       "builder             0\n",
       "pagenumber          0\n",
       "cost_sqft           0\n",
       "room_features       2\n",
       "dtype: int64"
      ]
     },
     "execution_count": 73,
     "metadata": {},
     "output_type": "execute_result"
    }
   ],
   "source": [
    "housing_df.isnull().sum()"
   ]
  },
  {
   "cell_type": "code",
   "execution_count": 74,
   "id": "fbbe5486",
   "metadata": {},
   "outputs": [],
   "source": [
    "housing_df = housing_df.dropna()"
   ]
  },
  {
   "cell_type": "code",
   "execution_count": 75,
   "id": "2e84ecc1",
   "metadata": {},
   "outputs": [
    {
     "data": {
      "text/plain": [
       "(998, 8)"
      ]
     },
     "execution_count": 75,
     "metadata": {},
     "output_type": "execute_result"
    }
   ],
   "source": [
    "housing_df.shape"
   ]
  },
  {
   "cell_type": "code",
   "execution_count": null,
   "id": "1cc8ce9b",
   "metadata": {},
   "outputs": [],
   "source": []
  },
  {
   "cell_type": "markdown",
   "id": "ac2fc6c6",
   "metadata": {},
   "source": [
    "## visualization"
   ]
  },
  {
   "cell_type": "markdown",
   "id": "26f92e1f",
   "metadata": {},
   "source": [
    "### univariate "
   ]
  },
  {
   "cell_type": "code",
   "execution_count": 76,
   "id": "302125c1",
   "metadata": {},
   "outputs": [
    {
     "data": {
      "text/plain": [
       "<AxesSubplot:xlabel='room_features', ylabel='count'>"
      ]
     },
     "execution_count": 76,
     "metadata": {},
     "output_type": "execute_result"
    },
    {
     "data": {
      "image/png": "[encoded data removed]",
      "text/plain": [
       "<Figure size 1080x1080 with 1 Axes>"
      ]
     },
     "metadata": {
      "needs_background": "light"
     },
     "output_type": "display_data"
    }
   ],
   "source": [
    "plt.figure(figsize=(15,15))\n",
    "sns.countplot(housing_df.room_features)"
   ]
  },
  {
   "cell_type": "code",
   "execution_count": 77,
   "id": "bfbd94ac",
   "metadata": {},
   "outputs": [
    {
     "data": {
      "text/plain": [
       "<AxesSubplot:xlabel='room_features'>"
      ]
     },
     "execution_count": 77,
     "metadata": {},
     "output_type": "execute_result"
    },
    {
     "data": {
      "image/png": "[encoded data removed]",
      "text/plain": [
       "<Figure size 432x288 with 1 Axes>"
      ]
     },
     "metadata": {
      "needs_background": "light"
     },
     "output_type": "display_data"
    }
   ],
   "source": [
    "housing_df.groupby(['room_features'])['price(L)'].max().plot(kind = 'bar')"
   ]
  },
  {
   "cell_type": "code",
   "execution_count": 78,
   "id": "637a5ab4",
   "metadata": {},
   "outputs": [
    {
     "data": {
      "text/plain": [
       "array([[<AxesSubplot:title={'center':'price(L)'}>,\n",
       "        <AxesSubplot:title={'center':'area_sqft'}>],\n",
       "       [<AxesSubplot:title={'center':'pagenumber'}>,\n",
       "        <AxesSubplot:title={'center':'cost_sqft'}>]], dtype=object)"
      ]
     },
     "execution_count": 78,
     "metadata": {},
     "output_type": "execute_result"
    },
    {
     "data": {
      "image/png": "[encoded data removed]",
      "text/plain": [
       "<Figure size 432x288 with 4 Axes>"
      ]
     },
     "metadata": {
      "needs_background": "light"
     },
     "output_type": "display_data"
    }
   ],
   "source": [
    "housing_df.hist()"
   ]
  },
  {
   "cell_type": "code",
   "execution_count": 79,
   "id": "407fa974",
   "metadata": {},
   "outputs": [
    {
     "data": {
      "text/plain": [
       "<AxesSubplot:ylabel='price(L)'>"
      ]
     },
     "execution_count": 79,
     "metadata": {},
     "output_type": "execute_result"
    },
    {
     "data": {
      "image/png": "[encoded data removed]",
      "text/plain": [
       "<Figure size 432x288 with 1 Axes>"
      ]
     },
     "metadata": {
      "needs_background": "light"
     },
     "output_type": "display_data"
    }
   ],
   "source": [
    "sns.boxplot(y=housing_df['price(L)'])"
   ]
  },
  {
   "cell_type": "code",
   "execution_count": 80,
   "id": "54c9943f",
   "metadata": {},
   "outputs": [
    {
     "data": {
      "text/plain": [
       "<AxesSubplot:ylabel='cost_sqft'>"
      ]
     },
     "execution_count": 80,
     "metadata": {},
     "output_type": "execute_result"
    },
    {
     "data": {
      "image/png": "[encoded data removed]",
      "text/plain": [
       "<Figure size 432x288 with 1 Axes>"
      ]
     },
     "metadata": {
      "needs_background": "light"
     },
     "output_type": "display_data"
    }
   ],
   "source": [
    "sns.boxplot(y=housing_df['cost_sqft'])"
   ]
  },
  {
   "cell_type": "code",
   "execution_count": 81,
   "id": "e5136850",
   "metadata": {},
   "outputs": [
    {
     "data": {
      "text/plain": [
       "<AxesSubplot:ylabel='area_sqft'>"
      ]
     },
     "execution_count": 81,
     "metadata": {},
     "output_type": "execute_result"
    },
    {
     "data": {
      "image/png": "[encoded data removed]",
      "text/plain": [
       "<Figure size 432x288 with 1 Axes>"
      ]
     },
     "metadata": {
      "needs_background": "light"
     },
     "output_type": "display_data"
    }
   ],
   "source": [
    "sns.boxplot(y=housing_df['area_sqft'])"
   ]
  },
  {
   "cell_type": "markdown",
   "id": "adf6aba0",
   "metadata": {},
   "source": [
    "### multivariate "
   ]
  },
  {
   "cell_type": "code",
   "execution_count": 82,
   "id": "8c536288",
   "metadata": {},
   "outputs": [
    {
     "data": {
      "text/plain": [
       "<AxesSubplot:xlabel='room_features', ylabel='price(L)'>"
      ]
     },
     "execution_count": 82,
     "metadata": {},
     "output_type": "execute_result"
    },
    {
     "data": {
      "image/png": "[encoded data removed]",
      "text/plain": [
       "<Figure size 1440x1440 with 1 Axes>"
      ]
     },
     "metadata": {
      "needs_background": "light"
     },
     "output_type": "display_data"
    }
   ],
   "source": [
    "plt.figure(figsize=(20,20))\n",
    "sns.boxplot(x ='room_features', y = 'price(L)' ,data = housing_df)"
   ]
  },
  {
   "cell_type": "code",
   "execution_count": 83,
   "id": "42b1b168",
   "metadata": {},
   "outputs": [
    {
     "data": {
      "text/plain": [
       "<AxesSubplot:xlabel='room_features', ylabel='cost_sqft'>"
      ]
     },
     "execution_count": 83,
     "metadata": {},
     "output_type": "execute_result"
    },
    {
     "data": {
      "image/png": "[encoded data removed]",
      "text/plain": [
       "<Figure size 1440x1440 with 1 Axes>"
      ]
     },
     "metadata": {
      "needs_background": "light"
     },
     "output_type": "display_data"
    }
   ],
   "source": [
    "plt.figure(figsize=(20,20))\n",
    "sns.boxplot(x ='room_features', y = 'cost_sqft' ,data = housing_df)"
   ]
  },
  {
   "cell_type": "code",
   "execution_count": 84,
   "id": "eb80623d",
   "metadata": {},
   "outputs": [
    {
     "data": {
      "text/plain": [
       "<AxesSubplot:xlabel='room_features', ylabel='price(L)'>"
      ]
     },
     "execution_count": 84,
     "metadata": {},
     "output_type": "execute_result"
    },
    {
     "data": {
      "image/png": "[encoded data removed]",
      "text/plain": [
       "<Figure size 1440x720 with 1 Axes>"
      ]
     },
     "metadata": {
      "needs_background": "light"
     },
     "output_type": "display_data"
    }
   ],
   "source": [
    "plt.figure(figsize=(20,10))\n",
    "sns.stripplot(x = 'room_features', y = 'price(L)', data= housing_df)"
   ]
  },
  {
   "cell_type": "code",
   "execution_count": null,
   "id": "a83f3942",
   "metadata": {},
   "outputs": [],
   "source": []
  }
 ],
 "metadata": {
  "kernelspec": {
   "display_name": "Python 3 (ipykernel)",
   "language": "python",
   "name": "python3"
  },
  "language_info": {
   "codemirror_mode": {
    "name": "ipython",
    "version": 3
   },
   "file_extension": ".py",
   "mimetype": "text/x-python",
   "name": "python",
   "nbconvert_exporter": "python",
   "pygments_lexer": "ipython3",
   "version": "3.9.7"
  }
 },
 "nbformat": 4,
 "nbformat_minor": 5
}
